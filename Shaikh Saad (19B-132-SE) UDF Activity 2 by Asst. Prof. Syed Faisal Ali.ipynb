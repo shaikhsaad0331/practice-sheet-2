{
 "cells": [
  {
   "cell_type": "markdown",
   "metadata": {},
   "source": [
    "# Python User Define Function Practice Activity - 2 "
   ]
  },
  {
   "cell_type": "markdown",
   "metadata": {},
   "source": [
    "Asst. Prof. Syed Faisal Ali              $\\;\\;\\;\\;\\;\\;$              Programming Fundamentals - FALL 2019 $\\;\\;\\;\\;\\;\\;$ Software Engineering                     $\\;\\;\\;\\;\\;\\;$                   Dated: 27 Nov 2019"
   ]
  },
  {
   "cell_type": "markdown",
   "metadata": {},
   "source": [
    "Question 1: Create a function to find the following:\n",
    "If the base of triangle is 3 cm long and its equilateral triangle and the radius of circle is 1.5 cm then find the area of triangle shaded. \n"
   ]
  },
  {
   "cell_type": "markdown",
   "metadata": {},
   "source": [
    "![proj](q1.jpg)"
   ]
  },
  {
   "cell_type": "code",
   "execution_count": 74,
   "metadata": {},
   "outputs": [
    {
     "data": {
      "text/plain": [
       "16.31410243160281"
      ]
     },
     "execution_count": 74,
     "metadata": {},
     "output_type": "execute_result"
    }
   ],
   "source": [
    "def Totalarea(a, r):\n",
    "    from math import pi\n",
    "    trianglearea=((3*(3**(1/2)))/2)*(a**2)\n",
    "    Carea=pi*(r**2)\n",
    "    shadedarea=trianglearea-Carea\n",
    "    return shadedarea\n",
    "Totalarea(3,1.5)"
   ]
  },
  {
   "cell_type": "markdown",
   "metadata": {},
   "source": [
    "Question 2: Create a function which can read a dictionary of your family members such as 5 members. \n",
    "1 Abbu, 1 Ammi, 2 Brothers 1 Sister. Now feed this data in dictionary in terms of name and relations.\n",
    "The UDF will ask findrelation() in this you will enter Brother it will return the names of two brothers you have inserted. In case if the relation is not found it will return “Sorry the relation doesn’t exist in your family.” \n"
   ]
  },
  {
   "cell_type": "code",
   "execution_count": 75,
   "metadata": {},
   "outputs": [
    {
     "data": {
      "text/plain": [
       "'Shabana'"
      ]
     },
     "execution_count": 75,
     "metadata": {},
     "output_type": "execute_result"
    }
   ],
   "source": [
    "def relation(a):\n",
    "    dictionary = {'father': 'haneef', 'mother': 'Shabana', 'brother': 'saad,fahad', 'sister': 'aisha'}\n",
    "    return dictionary[a]\n",
    "relation('mother')"
   ]
  },
  {
   "cell_type": "markdown",
   "metadata": {},
   "source": [
    "Question 3: Create a function to find the following:\n",
    "If the base of triangle is 5 cm long and its equilateral triangle and the radius of circle is 2.25 cm then find the area of triangle shaded. \n"
   ]
  },
  {
   "cell_type": "markdown",
   "metadata": {},
   "source": [
    "![proj](q3.jpg)"
   ]
  },
  {
   "cell_type": "code",
   "execution_count": 76,
   "metadata": {},
   "outputs": [
    {
     "data": {
      "text/plain": [
       "15.904312808798327"
      ]
     },
     "execution_count": 76,
     "metadata": {},
     "output_type": "execute_result"
    }
   ],
   "source": [
    "def ShadedArea(r):\n",
    "    from math import pi\n",
    "    Carea=pi*(r**2)\n",
    "    return Carea\n",
    "ShadedArea(2.25)"
   ]
  },
  {
   "cell_type": "markdown",
   "metadata": {},
   "source": [
    "Question 4:\n",
    "Create a function that takes a list of random numbers from users and add only those which are even. If all the numbers are odd it will return sorry no even number found.\n"
   ]
  },
  {
   "cell_type": "code",
   "execution_count": 77,
   "metadata": {},
   "outputs": [
    {
     "name": "stdout",
     "output_type": "stream",
     "text": [
      "sum of even no: 8\n"
     ]
    }
   ],
   "source": [
    "def even(l):\n",
    "    t=0\n",
    "    for i in l:\n",
    "        if i%2==0:\n",
    "            t = t+i\n",
    "    print(\"sum of even no:\",t)\n",
    "    if i%2==1:\n",
    "        print(\"No even found!\")\n",
    "even([1,3,5,7,8])"
   ]
  },
  {
   "cell_type": "markdown",
   "metadata": {},
   "source": [
    "Question 5:\n",
    "Write a function which can take a list of numbers and it will return sorted list.\n"
   ]
  },
  {
   "cell_type": "code",
   "execution_count": 78,
   "metadata": {},
   "outputs": [
    {
     "name": "stdout",
     "output_type": "stream",
     "text": [
      "['3', '4', '5', '8']\n"
     ]
    }
   ],
   "source": [
    "def list(s):\n",
    "    return sorted(s)\n",
    "print (list(['8','5','4','3']))"
   ]
  },
  {
   "cell_type": "markdown",
   "metadata": {},
   "source": [
    "Question 6:\n",
    "Write a function that will take the radius and return the perimeter and area of circle with 5% increment.\n"
   ]
  },
  {
   "cell_type": "code",
   "execution_count": 79,
   "metadata": {},
   "outputs": [
    {
     "name": "stdout",
     "output_type": "stream",
     "text": [
      "Perimeter 32.98672286269283\n",
      "Area of Circle: 82.46680715673207\n",
      "\n"
     ]
    }
   ],
   "source": [
    "def areaofcircle(r):\n",
    "    from math import pi\n",
    "    area=pi*(r**2)\n",
    "    TotalArea = area+(area*0.05)\n",
    "    peri=(2*pi*r)\n",
    "    perimeter=((0.05*peri))+(peri)\n",
    "    print(\"Perimeter\",perimeter)\n",
    "    print(\"Area of Circle:\",TotalArea)\n",
    "    return \"\"\n",
    "print(areaofcircle(5))"
   ]
  },
  {
   "cell_type": "markdown",
   "metadata": {},
   "source": [
    "Question 7:\n",
    "Write a function that will take the strings as argument and return number of vowels and consonants.\n"
   ]
  },
  {
   "cell_type": "code",
   "execution_count": 80,
   "metadata": {},
   "outputs": [
    {
     "name": "stdout",
     "output_type": "stream",
     "text": [
      "Numbers of vowels: 4\n",
      "Numbers of consonants: 7\n"
     ]
    }
   ],
   "source": [
    "def strings(s):\n",
    "    countv = 0\n",
    "    countc = 0\n",
    "    for i in s:\n",
    "        if i in \"AEIOU\" or i in \"aeiou\":\n",
    "            countv += 1\n",
    "        else:\n",
    "            countc += 1\n",
    "    print(\"Numbers of vowels:\",countv)\n",
    "    print(\"Numbers of consonants:\",countc)\n",
    "strings('Shaikh Saad')"
   ]
  },
  {
   "cell_type": "markdown",
   "metadata": {},
   "source": [
    "Question 8:\n",
    "Write a function that will take length and breadth for a rectangle and return perimeter and area of rectangle with 8% increment.\n"
   ]
  },
  {
   "cell_type": "code",
   "execution_count": 81,
   "metadata": {},
   "outputs": [
    {
     "name": "stdout",
     "output_type": "stream",
     "text": [
      "total Perimeter with 8% : 19.44\n",
      "total area with 8% : 21.6\n"
     ]
    }
   ],
   "source": [
    "def rectangle(l,b):\n",
    "    perimeter=2*(l+b)\n",
    "    totalPerimeter = (0.08*perimeter)+perimeter\n",
    "    area = l*b\n",
    "    totalArea = (0.08*area)+area\n",
    "    print('total Perimeter with 8% :',totalPerimeter)\n",
    "    print('total area with 8% :',totalArea)\n",
    "rectangle(5,4)"
   ]
  },
  {
   "cell_type": "markdown",
   "metadata": {},
   "source": [
    "Question 9:\n",
    "Write a function that can take the numbers in strings. From string find which number is even and which one is odd. Save them in two different lists and generate the result.\n"
   ]
  },
  {
   "cell_type": "code",
   "execution_count": 82,
   "metadata": {},
   "outputs": [
    {
     "name": "stdout",
     "output_type": "stream",
     "text": [
      "Numbers of Even : 4\n",
      "Numbers of odd: 5\n",
      "List of even: ['8', '6', '4', '2']\n",
      "List of odd: ['9', '7', '5', '3', '1']\n"
     ]
    }
   ],
   "source": [
    "f = \"987654321\"\n",
    "s = 0\n",
    "o = 0\n",
    "sl = []\n",
    "ol = []\n",
    "for i in f:\n",
    "    if int(i)%2==0:\n",
    "        s += 1\n",
    "        sl.append(i)\n",
    "    else:\n",
    "        o += 1\n",
    "        ol.append(i)\n",
    "print('Numbers of Even :',s)\n",
    "print('Numbers of odd:',o)\n",
    "print(\"List of even:\",sl)\n",
    "print(\"List of odd:\",ol)"
   ]
  },
  {
   "cell_type": "markdown",
   "metadata": {},
   "source": [
    "Question 10:\n",
    "Write a function which will take the string from the user and return how many alphabets have been used in it and which alphabets are missing.\n"
   ]
  },
  {
   "cell_type": "code",
   "execution_count": 83,
   "metadata": {},
   "outputs": [
    {
     "name": "stdout",
     "output_type": "stream",
     "text": [
      "6\n",
      "missing alphabets : bcefgjlmnopqrtuvwxyz\n"
     ]
    }
   ],
   "source": [
    "f = 'shaikh saad'\n",
    "n = 0\n",
    "fs = 'abcdefghijklmnopqrstuvwxyz'\n",
    "for i in f:\n",
    "    if i in fs:\n",
    "        fs = fs.replace(i,\"\")\n",
    "        n += 1\n",
    "print(n)\n",
    "print(\"missing alphabets :\",fs)"
   ]
  },
  {
   "cell_type": "markdown",
   "metadata": {},
   "source": [
    "Question 11:\n",
    "Write a function that will take verbs in words and return a list of verbs with continuous tense by adding (ing) at the end of each verb.\n"
   ]
  },
  {
   "cell_type": "code",
   "execution_count": 84,
   "metadata": {},
   "outputs": [
    {
     "name": "stdout",
     "output_type": "stream",
     "text": [
      "continuous : shifting\n"
     ]
    }
   ],
   "source": [
    "def verb(s):\n",
    "    if s[-1] == 'e':\n",
    "        s = s.replace(s[-1],\"\")\n",
    "        print(\"continuous :\",s+\"ing\")\n",
    "    else:\n",
    "        print(\"continuous :\",s+\"ing\")\n",
    "verb('shift')"
   ]
  },
  {
   "cell_type": "markdown",
   "metadata": {},
   "source": [
    "Question 12:\n",
    "Make a function which can take two radius of circles and find the areas of it and subtract smaller one from larger one and tell the remaining area of circle.\n"
   ]
  },
  {
   "cell_type": "code",
   "execution_count": 85,
   "metadata": {},
   "outputs": [
    {
     "data": {
      "text/plain": [
       "628.3185307179587"
      ]
     },
     "execution_count": 85,
     "metadata": {},
     "output_type": "execute_result"
    }
   ],
   "source": [
    "from math import pi\n",
    "def cc(r1,r2):\n",
    "    a = pi*(r1**2)\n",
    "    aa = pi*(r2**2)\n",
    "    fa = (aa - a)\n",
    "    return abs(fa)\n",
    "cc(5,15)"
   ]
  },
  {
   "cell_type": "markdown",
   "metadata": {},
   "source": [
    "Question 13:\n",
    "Write a function that will take a string and calculate number of Upper case letters and lower case letters.\n"
   ]
  },
  {
   "cell_type": "code",
   "execution_count": 86,
   "metadata": {},
   "outputs": [
    {
     "name": "stdout",
     "output_type": "stream",
     "text": [
      "lowercase : 21\n",
      "uppercase : 4\n"
     ]
    }
   ],
   "source": [
    "def st(s):\n",
    "    low = 'abcdefghijklmnopqrstuvwxyz'\n",
    "    up = 'ABCDEFGHIJKLMNOPQRSTUVWXYZ'\n",
    "    n1 = 0\n",
    "    n2 = 0\n",
    "    for i in s:\n",
    "        if i in up:\n",
    "            n1 = n1+1\n",
    "        if i in low:\n",
    "            n2 = n2+1\n",
    "    print(\"lowercase :\",n2)\n",
    "    print(\"uppercase :\",n1)\n",
    "st(\"Usman Institue Of Technology\")"
   ]
  },
  {
   "cell_type": "markdown",
   "metadata": {},
   "source": [
    "Question 14:\n",
    "Write a function which will take length and breadth of two rectangles. Subtract the smaller rectangle from the larger rectangle and return the area left behind.\n"
   ]
  },
  {
   "cell_type": "code",
   "execution_count": 87,
   "metadata": {},
   "outputs": [
    {
     "data": {
      "text/plain": [
       "4"
      ]
     },
     "execution_count": 87,
     "metadata": {},
     "output_type": "execute_result"
    }
   ],
   "source": [
    "def Area(l1,b1,l2,b2):\n",
    "    a = l1*b1\n",
    "    aa = l2*b2\n",
    "    if a > aa or a < aa or a == aa:\n",
    "        dif = (aa - a)\n",
    "    return abs(dif)\n",
    "Area(4,2,4,1)"
   ]
  },
  {
   "cell_type": "markdown",
   "metadata": {},
   "source": [
    "Question 15:\n",
    "Create a function that can add the fractions in series such as 1 to 8 = 1/8+1/7+1/6+1/5 …… ½ and return the result in fraction not in decimal.\n"
   ]
  },
  {
   "cell_type": "code",
   "execution_count": 88,
   "metadata": {},
   "outputs": [
    {
     "name": "stdout",
     "output_type": "stream",
     "text": [
      "answer: 137/60\n"
     ]
    }
   ],
   "source": [
    "from fractions import Fraction\n",
    "def fraction(i,n):\n",
    "    fr = 0\n",
    "    for num in range(i,n+1):\n",
    "        fr = fr + Fraction(1,num)\n",
    "    return fr\n",
    "print(\"answer:\",fraction(1,5))"
   ]
  },
  {
   "cell_type": "markdown",
   "metadata": {},
   "source": [
    "Question 16:\n",
    "Write a function which will take height and base for a triangle and \n"
   ]
  },
  {
   "cell_type": "code",
   "execution_count": null,
   "metadata": {},
   "outputs": [],
   "source": []
  },
  {
   "cell_type": "markdown",
   "metadata": {},
   "source": [
    "Question 17:\n",
    "Write a function which will take a list of fruits names. The function will return how many alphabets are repetitive in the names of fruits and how many are unique letters.\n"
   ]
  },
  {
   "cell_type": "code",
   "execution_count": 89,
   "metadata": {},
   "outputs": [
    {
     "name": "stdout",
     "output_type": "stream",
     "text": [
      "unique letters : ['m', 'g', 'o', 'b', 'C', 'h', 'i', 's']\n",
      "repititive letters : ['a', 'n', 'e', 'r']\n"
     ]
    }
   ],
   "source": [
    "mylist = ['mango', 'banana','Cherries']\n",
    "def count_letters(t):\n",
    "    counted = {}\n",
    "    for i in t:\n",
    "        for l in i:\n",
    "            if l in counted:\n",
    "                counted[l] += 1\n",
    "            else:\n",
    "                counted[l] = 1\n",
    "    c1=[l for l in counted if counted[l] == 1]\n",
    "    c2=[l for l in counted if counted[l] > 1]\n",
    "    print(\"unique letters :\",c1)\n",
    "    print(\"repititive letters :\",c2)\n",
    "count_letters(mylist)"
   ]
  },
  {
   "cell_type": "markdown",
   "metadata": {},
   "source": [
    "Question 18:\n",
    "Write a function that can take square length and radius of circle. Find the area of both and subtract the smallest shape from largest one and return the remaining shape area.\n"
   ]
  },
  {
   "cell_type": "code",
   "execution_count": 90,
   "metadata": {},
   "outputs": [
    {
     "name": "stdout",
     "output_type": "stream",
     "text": [
      "area of square 25\n",
      "area of circle 78.55\n",
      "remaining area 53.55\n"
     ]
    }
   ],
   "source": [
    "def sc(l,r):\n",
    "    sa = l*l\n",
    "    ca = 3.142*(r**2)\n",
    "    print(\"area of square\",sa)\n",
    "    print(\"area of circle\",ca)\n",
    "    if sa > ca or sa < ca or sa == ca:\n",
    "        fa = (ca - sa)\n",
    "    return abs(fa)  \n",
    "print(\"remaining area\",sc(5,5))"
   ]
  }
 ],
 "metadata": {
  "kernelspec": {
   "display_name": "Python 3",
   "language": "python",
   "name": "python3"
  },
  "language_info": {
   "codemirror_mode": {
    "name": "ipython",
    "version": 3
   },
   "file_extension": ".py",
   "mimetype": "text/x-python",
   "name": "python",
   "nbconvert_exporter": "python",
   "pygments_lexer": "ipython3",
   "version": "3.7.3"
  }
 },
 "nbformat": 4,
 "nbformat_minor": 2
}
